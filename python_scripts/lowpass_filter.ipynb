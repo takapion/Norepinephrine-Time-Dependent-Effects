{
 "cells": [
  {
   "cell_type": "code",
   "execution_count": null,
   "id": "6978c6d5",
   "metadata": {
    "vscode": {
     "languageId": "plaintext"
    }
   },
   "outputs": [],
   "source": [
    "import numpy as np\n",
    "import pandas as pd\n",
    "from scipy import signal\n",
    "from matplotlib import pyplot as plt\n",
    "import seaborn as sns\n",
    "\n",
    "# Suppress FutureWarnings from pandas .interpolate()\n",
    "import warnings\n",
    "warnings.simplefilter('ignore', FutureWarning)"
   ]
  },
  {
   "cell_type": "code",
   "execution_count": null,
   "id": "4937ab6a",
   "metadata": {
    "vscode": {
     "languageId": "plaintext"
    }
   },
   "outputs": [],
   "source": [
    "version = '250519'"
   ]
  },
  {
   "cell_type": "code",
   "execution_count": null,
   "id": "35f918d4",
   "metadata": {
    "vscode": {
     "languageId": "plaintext"
    }
   },
   "outputs": [],
   "source": [
    "def expand_group(group):\n",
    "    icu_stay_id = group['icu_stay_id'].iloc[0]\n",
    "    min_offset = group['offset'].min()\n",
    "    max_offset = group['offset'].max()\n",
    "    full_range = pd.DataFrame({\n",
    "        'icu_stay_id': icu_stay_id,\n",
    "        'offset': np.arange(min_offset, max_offset + 1)\n",
    "    })\n",
    "    return full_range.merge(group, on=['icu_stay_id', 'offset'], how='left')\n",
    "\n",
    "df = pd.read_csv(f'../data/blood_pressure_{version}.csv')[['icu_stay_id', 'offset', 'invasive_mbp']]\n",
    "\n",
    "df = df.groupby('icu_stay_id', group_keys=False).apply(expand_group)\n",
    "\n",
    "df = df.sort_values(by=['icu_stay_id', 'offset']).reset_index(drop=True)\n",
    "\n",
    "len(df), len(df['icu_stay_id'].unique())"
   ]
  },
  {
   "cell_type": "code",
   "execution_count": null,
   "id": "72b2a388",
   "metadata": {
    "vscode": {
     "languageId": "plaintext"
    }
   },
   "outputs": [],
   "source": [
    "df.head()"
   ]
  },
  {
   "cell_type": "code",
   "execution_count": null,
   "id": "c39a6f21",
   "metadata": {
    "vscode": {
     "languageId": "plaintext"
    }
   },
   "outputs": [],
   "source": [
    "def is_continuous(offset_series):\n",
    "    return (offset_series.sort_values().diff().dropna() == 1).all()\n",
    "\n",
    "# Check continuity for each icu_stay_id\n",
    "continuity_check = df.groupby('icu_stay_id')['offset'].apply(is_continuous)\n",
    "\n",
    "# Show ICU stay IDs where offset is not continuous\n",
    "non_continuous_ids = continuity_check[~continuity_check].index.tolist()\n",
    "\n",
    "len(non_continuous_ids)"
   ]
  },
  {
   "cell_type": "code",
   "execution_count": null,
   "id": "346e87df",
   "metadata": {
    "vscode": {
     "languageId": "plaintext"
    }
   },
   "outputs": [],
   "source": [
    "def lowpass(x, samplerate, fp, fs, gpass, gstop):\n",
    "    fn = samplerate / 2   # Nyquist frequency\n",
    "    wp = fp / fn          # Normalize passband edge frequency\n",
    "    ws = fs / fn          # Normalize stopband edge frequency\n",
    "    N, Wn = signal.buttord(wp, ws, gpass, gstop)  # Calculate Butterworth filter order and normalized cutoff\n",
    "    b, a = signal.butter(N, Wn, \"low\")            # Compute numerator and denominator of the filter transfer function\n",
    "    y = signal.filtfilt(b, a, x)                  # Apply zero-phase filtering\n",
    "    return y"
   ]
  },
  {
   "cell_type": "code",
   "execution_count": null,
   "id": "1c4ccafc",
   "metadata": {
    "vscode": {
     "languageId": "plaintext"
    }
   },
   "outputs": [],
   "source": [
    "list_id = df['icu_stay_id'].unique()"
   ]
  },
  {
   "cell_type": "code",
   "execution_count": null,
   "id": "897d7ded",
   "metadata": {
    "vscode": {
     "languageId": "plaintext"
    }
   },
   "outputs": [],
   "source": [
    "pid = list_id[0]\n",
    "plt.plot(df[df['icu_stay_id']==pid]['offset'], df[df['icu_stay_id']==pid]['invasive_mbp'])"
   ]
  },
  {
   "cell_type": "code",
   "execution_count": null,
   "id": "8d0ca786",
   "metadata": {
    "vscode": {
     "languageId": "plaintext"
    }
   },
   "outputs": [],
   "source": [
    "samplerate = 1/60\n",
    "fpass = 0.15 * samplerate  # Passband edge frequency [Hz]\n",
    "fstop = 0.40 * samplerate  # Stopband edge frequency [Hz]\n",
    "gpass = 3   # Maximum loss in the passband [dB] - parameter for attenuation curve between fpass and fstop\n",
    "gstop = 40  # Minimum attenuation in the stopband [dB] - parameter for attenuation curve between fpass and fstop\n",
    "\n",
    "mbp_lpf = []\n",
    "for icu_stay_id in list_id:\n",
    "    # print(icu_stay_id)\n",
    "    df_tmp = df[df['icu_stay_id'] == icu_stay_id]\n",
    "    df_tmp = df_tmp.interpolate(limit_direction='both', inplace=False)\n",
    "    tmp = lowpass(df_tmp['invasive_mbp'].values, samplerate, fpass, fstop, gpass, gstop)\n",
    "    mbp_lpf = np.concatenate([mbp_lpf, tmp])\n"
   ]
  },
  {
   "cell_type": "code",
   "execution_count": null,
   "id": "a10d0cd6",
   "metadata": {
    "vscode": {
     "languageId": "plaintext"
    }
   },
   "outputs": [],
   "source": [
    "df['invasive_mbp_lpf'] = mbp_lpf"
   ]
  },
  {
   "cell_type": "code",
   "execution_count": null,
   "id": "e2bec719",
   "metadata": {
    "vscode": {
     "languageId": "plaintext"
    }
   },
   "outputs": [],
   "source": [
    "for i in range(10):\n",
    "    patient_id = list_id[i+30]\n",
    "    \n",
    "    # Filter the DataFrame for the current patient\n",
    "    patient_data = df[df['icu_stay_id'] == patient_id]\n",
    "    \n",
    "    # Plot invasive_sbp_lpf over offset\n",
    "    plt.figure(figsize=(10, 6))\n",
    "    plt.plot(patient_data['offset'], patient_data['invasive_mbp'], label=f'Patient {patient_id}')\n",
    "    plt.plot(patient_data['offset'], patient_data['invasive_mbp_lpf'], label=f'Patient {patient_id}')\n",
    "    plt.xlabel('Offset')\n",
    "    plt.ylabel('Invasive MBP LPF')\n",
    "    plt.title(f'Invasive MBP LPF over Offset for Patient {patient_id}')\n",
    "    plt.legend()\n",
    "    plt.show()"
   ]
  },
  {
   "cell_type": "code",
   "execution_count": null,
   "id": "acf285fe",
   "metadata": {
    "vscode": {
     "languageId": "plaintext"
    }
   },
   "outputs": [],
   "source": [
    "\n",
    "df[['invasive_mbp', 'invasive_mbp_lpf']].isnull().sum()"
   ]
  },
  {
   "cell_type": "code",
   "execution_count": null,
   "id": "08258ea0",
   "metadata": {
    "vscode": {
     "languageId": "plaintext"
    }
   },
   "outputs": [],
   "source": [
    "df.to_csv(f'../data/blood_pressure_filtered_{version}.csv', header=True, index=False)"
   ]
  },
  {
   "cell_type": "code",
   "execution_count": null,
   "id": "e5f8040f",
   "metadata": {
    "vscode": {
     "languageId": "plaintext"
    }
   },
   "outputs": [],
   "source": [
    "patient_id = list_id[38]\n",
    "\n",
    "patient_data = df[df['icu_stay_id'] == patient_id].copy()\n",
    "\n",
    "# Prepare data in long format for seaborn\n",
    "plot_df = patient_data[['offset', 'invasive_mbp', 'invasive_mbp_lpf']].melt(\n",
    "    id_vars='offset',\n",
    "    var_name='Signal Type',\n",
    "    value_name='MAP Value'\n",
    ")\n",
    "\n",
    "# Rename signal types for better readability\n",
    "plot_df['Signal Type'] = plot_df['Signal Type'].map({\n",
    "    'invasive_mbp': 'Raw MAP',\n",
    "    'invasive_mbp_lpf': 'Filtered MAP'\n",
    "})\n",
    "\n",
    "palette = {'Raw MAP': '#97BBF5CC', 'Filtered MAP': '#4269D0'}\n",
    "\n",
    "fig, ax = plt.subplots(figsize=(12, 8))\n",
    "sns.lineplot(\n",
    "    data=plot_df,\n",
    "    x='offset',\n",
    "    y='MAP Value',\n",
    "    hue='Signal Type',\n",
    "    palette=palette,\n",
    "    linewidth=2.5,     # 👈 Increased line width\n",
    "    ax=ax\n",
    ")\n",
    "\n",
    "#ax.set_ylim(0, 120)\n",
    "ax.set_xticks([-30, 0, 30, 60, 90, 120])\n",
    "ax.set_title('Comparison of Raw and Low-pass Filtered MAP', fontsize=24)\n",
    "ax.set_xlabel('Time Offset (minutes)', fontsize=20)\n",
    "ax.set_ylabel('Mean Arterial Pressure (mmHg)', fontsize=20)\n",
    "ax.tick_params(axis='both', which='major', labelsize=18)\n",
    "ax.legend(title='Signal Type', fontsize=16, title_fontsize=18)\n",
    "\n",
    "plt.tight_layout()\n",
    "\n",
    "fig.savefig(f'../output/map_filtered_vs_raw_patient_{version}.png', dpi=300)\n",
    "\n",
    "plt.show()"
   ]
  }
 ],
 "metadata": {
  "language_info": {
   "name": "python"
  }
 },
 "nbformat": 4,
 "nbformat_minor": 5
}
